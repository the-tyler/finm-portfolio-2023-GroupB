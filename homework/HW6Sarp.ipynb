{
 "cells": [
  {
   "cell_type": "code",
   "execution_count": 1,
   "id": "cf5911a4-9e89-4995-9a44-ea15a847de9d",
   "metadata": {},
   "outputs": [
    {
     "name": "stdout",
     "output_type": "stream",
     "text": [
      "Intel MKL WARNING: Support of Intel(R) Streaming SIMD Extensions 4.2 (Intel(R) SSE4.2) enabled only processors has been deprecated. Intel oneAPI Math Kernel Library 2025.0 will require Intel(R) Advanced Vector Extensions (Intel(R) AVX) instructions.\n",
      "Intel MKL WARNING: Support of Intel(R) Streaming SIMD Extensions 4.2 (Intel(R) SSE4.2) enabled only processors has been deprecated. Intel oneAPI Math Kernel Library 2025.0 will require Intel(R) Advanced Vector Extensions (Intel(R) AVX) instructions.\n"
     ]
    }
   ],
   "source": [
    "import pandas as pd\n",
    "import numpy as np\n",
    "pd.options.display.float_format = \"{:,.4f}\".format\n",
    "\n",
    "import matplotlib.pyplot as plt\n",
    "import seaborn as sns\n",
    "import math\n",
    "\n",
    "import statsmodels.api as sm\n",
    "from sklearn.linear_model import LinearRegression\n",
    "from scipy.stats import norm\n",
    "import scipy.stats as stats\n",
    "\n",
    "import warnings\n",
    "warnings.filterwarnings(\"ignore\")\n",
    "\n",
    "import TA_utils as ta\n",
    "\n",
    "from typing import Union, List\n",
    "\n",
    "from collections import defaultdict\n",
    "\n",
    "import re"
   ]
  },
  {
   "cell_type": "code",
   "execution_count": 5,
   "id": "67cf7f37-b073-496a-b768-6fe33e52a16d",
   "metadata": {},
   "outputs": [],
   "source": [
    "# Easy to read summary stats with monthly data return data!\n",
    "\n",
    "# Always plug in a DataFrame - never pd.Series\n",
    "def summary_statistics_annualized(returns, annual_factor = 12):\n",
    "    \"\"\"This functions returns the summary statistics for the input total/excess returns passed\n",
    "    into the function\"\"\"\n",
    "    \n",
    "    summary_statistics = pd.DataFrame(index=returns.columns)\n",
    "    summary_statistics['Mean'] = returns.mean() * annual_factor\n",
    "    summary_statistics['Vol'] = returns.std() * np.sqrt(annual_factor)\n",
    "    summary_statistics['Sharpe'] = (returns.mean() / returns.std()) * np.sqrt(annual_factor)\n",
    "    summary_statistics['Min'] = returns.min()\n",
    "    summary_statistics['Max'] = returns.max()\n",
    "    summary_statistics['Skewness'] = returns.skew()\n",
    "    summary_statistics['Excess Kurtosis'] = returns.kurtosis()\n",
    "    summary_statistics['VaR (0.05)'] = returns.quantile(.05, axis = 0)\n",
    "    summary_statistics['CVaR (0.05)'] = returns[returns <= returns.quantile(.05, axis = 0)].mean()\n",
    "\n",
    "    wealth_index = 1000*(1+returns).cumprod()\n",
    "    previous_peaks = wealth_index.cummax()\n",
    "    drawdowns = (wealth_index - previous_peaks)/previous_peaks\n",
    "\n",
    "    summary_statistics['Max Drawdown'] = drawdowns.min()\n",
    "    summary_statistics['Peak'] = [previous_peaks[col][:drawdowns[col].idxmin()].idxmax() for col in previous_peaks.columns]\n",
    "    summary_statistics['Bottom'] = drawdowns.idxmin()\n",
    "    \n",
    "    recovery_date = []\n",
    "    for col in wealth_index.columns:\n",
    "        prev_max = previous_peaks[col][:drawdowns[col].idxmin()].max()\n",
    "        recovery_wealth = pd.DataFrame([wealth_index[col][drawdowns[col].idxmin():]]).T\n",
    "        recovery_date.append(recovery_wealth[recovery_wealth[col] >= prev_max].index.min())\n",
    "    summary_statistics['Recovery'] = recovery_date\n",
    "    \n",
    "    return summary_statistics"
   ]
  },
  {
   "cell_type": "markdown",
   "id": "14bc97fe-95de-48b8-a039-03d393aa01c5",
   "metadata": {},
   "source": [
    "## Read Data"
   ]
  },
  {
   "cell_type": "code",
   "execution_count": 24,
   "id": "03c569d0-dc70-450e-a567-1587a1791937",
   "metadata": {},
   "outputs": [],
   "source": [
    "momentum = pd.read_excel('momentum_data.xlsx', sheet_name='momentum (excess returns)').set_index('Date')\n",
    "fffactors = pd.read_excel('momentum_data.xlsx', sheet_name='factors (excess returns)').set_index('Date')\n",
    "size_tot_ret = pd.read_excel('momentum_data.xlsx', sheet_name='size_sorts (total returns)').set_index('Date')\n",
    "deci_tot_ret = pd.read_excel('momentum_data.xlsx', sheet_name='deciles (total returns)').set_index('Date')\n",
    "rf = pd.read_excel('momentum_data.xlsx', sheet_name='risk-free rate').set_index('Date')\n"
   ]
  },
  {
   "cell_type": "markdown",
   "id": "bee1ab0e-d062-4006-aa44-512aa2675da5",
   "metadata": {},
   "source": [
    "## 2.1\n",
    "    a) It's seen below\n",
    "    b) Since 1927, until 2009 momentum's mean annual excess return has been strong with negative market correlation and the value portfolio. However, since 2009, the mean excess return is below 0. Even though negative market correlation and the value portfolio persists, momentum strategy seems like to lose it's lucrativeness probably it was exploited by many market participants\n",
    "    c) It's not easy to say that because from 1927 to 2008, the performance of momentum has been robust and there was still trading costs associated. But starting from 2009, performance decreased below 0. I believe momentum is still a good shot especially due to its negative correlation with market premium??"
   ]
  },
  {
   "cell_type": "code",
   "execution_count": 22,
   "id": "bb9a8803-c16e-4882-9b4b-194a268c4f6a",
   "metadata": {},
   "outputs": [
    {
     "data": {
      "text/html": [
       "<div>\n",
       "<style scoped>\n",
       "    .dataframe tbody tr th:only-of-type {\n",
       "        vertical-align: middle;\n",
       "    }\n",
       "\n",
       "    .dataframe tbody tr th {\n",
       "        vertical-align: top;\n",
       "    }\n",
       "\n",
       "    .dataframe thead th {\n",
       "        text-align: right;\n",
       "    }\n",
       "</style>\n",
       "<table border=\"1\" class=\"dataframe\">\n",
       "  <thead>\n",
       "    <tr style=\"text-align: right;\">\n",
       "      <th></th>\n",
       "      <th>Mean</th>\n",
       "      <th>Vol</th>\n",
       "      <th>Sharpe</th>\n",
       "      <th>Skewness</th>\n",
       "      <th>Corr Market Premium</th>\n",
       "      <th>Corr Value</th>\n",
       "    </tr>\n",
       "  </thead>\n",
       "  <tbody>\n",
       "    <tr>\n",
       "      <th>1927-2022</th>\n",
       "      <td>0.0777</td>\n",
       "      <td>0.1625</td>\n",
       "      <td>0.4782</td>\n",
       "      <td>-3.0154</td>\n",
       "      <td>-0.3444</td>\n",
       "      <td>-0.4149</td>\n",
       "    </tr>\n",
       "    <tr>\n",
       "      <th>1927-1993</th>\n",
       "      <td>0.0901</td>\n",
       "      <td>0.1600</td>\n",
       "      <td>0.5632</td>\n",
       "      <td>-3.8090</td>\n",
       "      <td>-0.3625</td>\n",
       "      <td>-0.4950</td>\n",
       "    </tr>\n",
       "    <tr>\n",
       "      <th>1994-2008</th>\n",
       "      <td>0.1044</td>\n",
       "      <td>0.1756</td>\n",
       "      <td>0.5945</td>\n",
       "      <td>-0.5820</td>\n",
       "      <td>-0.2345</td>\n",
       "      <td>-0.1294</td>\n",
       "    </tr>\n",
       "    <tr>\n",
       "      <th>2009-2022</th>\n",
       "      <td>-0.0101</td>\n",
       "      <td>0.1588</td>\n",
       "      <td>-0.0638</td>\n",
       "      <td>-2.8039</td>\n",
       "      <td>-0.3732</td>\n",
       "      <td>-0.3617</td>\n",
       "    </tr>\n",
       "  </tbody>\n",
       "</table>\n",
       "</div>"
      ],
      "text/plain": [
       "             Mean    Vol  Sharpe  Skewness  Corr Market Premium  Corr Value\n",
       "1927-2022  0.0777 0.1625  0.4782   -3.0154              -0.3444     -0.4149\n",
       "1927-1993  0.0901 0.1600  0.5632   -3.8090              -0.3625     -0.4950\n",
       "1994-2008  0.1044 0.1756  0.5945   -0.5820              -0.2345     -0.1294\n",
       "2009-2022 -0.0101 0.1588 -0.0638   -2.8039              -0.3732     -0.3617"
      ]
     },
     "execution_count": 22,
     "metadata": {},
     "output_type": "execute_result"
    }
   ],
   "source": [
    "sub_samples = {\n",
    "              '1927-2022' : ['1927','2022'],\n",
    "              '1927-1993' : ['1927','1993'],\n",
    "              '1994-2008' : ['1994','2008'],\n",
    "              '2009-2022' : ['2009','2022']\n",
    "              }\n",
    "\n",
    "fffactors['UMD'] = momentum['UMD'] # If you don't have the UMD column, add that \n",
    "\n",
    "mom_sum = []\n",
    "for k,v in sub_samples.items():\n",
    "    sub_mom = momentum.loc[sub_samples[k][0]:sub_samples[k][1]]\n",
    "    sub_ff = fffactors.loc[sub_samples[k][0]:sub_samples[k][1]]\n",
    "    mom_summary = summary_statistics_annualized(sub_mom)\n",
    "    mom_summary = mom_summary.loc[:,['Mean','Vol','Sharpe','Skewness']]\n",
    "    mom_summary['Corr Market Premium'] = sub_ff.corr().loc['MKT',['UMD']]\n",
    "    mom_summary['Corr Value'] = sub_ff.corr().loc['HML',['UMD']]\n",
    "    mom_summary.index = [k]\n",
    "    mom_sum.append(mom_summary)\n",
    "\n",
    "mom_summary = pd.concat(mom_sum)\n",
    "mom_summary"
   ]
  },
  {
   "cell_type": "markdown",
   "id": "1a36fe03-07a3-4b23-981b-fa3a9ab97550",
   "metadata": {},
   "source": [
    "## 2.2\n",
    "    a) Table is below\n",
    "    b) Long only is much more attractive than long only with 11.54% mean excess return vs 4.01% mean excess return for the same volatility. Obviously, the downside risk is the market correlation of long only portfolio (~0.90 correlation with market)\n",
    "    c) Not at all. The astonishing performance of long only portfolio is attributed to the stock rally in the last 2 decades however, it's obviously concentrated heavily in long equities\n",
    "    d) Chart is below"
   ]
  },
  {
   "cell_type": "code",
   "execution_count": 37,
   "id": "a0bff849-ef38-4507-a427-c35a723808e0",
   "metadata": {},
   "outputs": [],
   "source": [
    "mom_rtn_long = pd.DataFrame(((1/2*(size_tot_ret['BIG HiPRIOR'] + size_tot_ret['SMALL HiPRIOR']))-rf['RF']),columns = ['UMD'])\n",
    "\n",
    "ff_long = fffactors.copy()\n",
    "ff_long['UMD'] = mom_rtn_long['UMD']\n",
    "mom_rtn_long_summary = summary_statistics_annualized(mom_rtn_long['1994':])\n",
    "mom_rtn_long_summary = mom_rtn_long_summary.loc[:,['Mean','Vol','Sharpe','Skewness']]\n",
    "mom_rtn_long_summary['Corr Mkt'] = ff_long.loc['1994':].corr().loc['MKT',['UMD']]\n",
    "mom_rtn_long_summary['Corr Val'] = ff_long.loc['1994':].corr().loc['HML',['UMD']]\n",
    "mom_rtn_long_summary.index = ['Long Only']\n"
   ]
  },
  {
   "cell_type": "code",
   "execution_count": 38,
   "id": "30673951-c84f-4730-8c9e-aadbb1747102",
   "metadata": {},
   "outputs": [],
   "source": [
    "mom_rtn_long_short = pd.DataFrame((1/2*((size_tot_ret['BIG HiPRIOR'] + size_tot_ret['SMALL HiPRIOR']) \n",
    "                              - (size_tot_ret['BIG LoPRIOR'] + size_tot_ret['SMALL LoPRIOR']))),columns = ['UMD'])\n",
    "ff_long_short = fffactors.copy()\n",
    "ff_long_short['UMD'] = mom_rtn_long_short['UMD']\n",
    "mom_rtn_long_short_summary = summary_statistics_annualized(mom_rtn_long_short['1994':])\n",
    "mom_rtn_long_short_summary = mom_rtn_long_short_summary.loc[:,['Mean','Vol','Sharpe','Skewness']]\n",
    "mom_rtn_long_short_summary['Corr Mkt'] = ff_long_short.loc['1994':].corr().loc['MKT',['UMD']]\n",
    "mom_rtn_long_short_summary['Corr Val'] = ff_long_short.loc['1994':].corr().loc['HML',['UMD']]\n",
    "mom_rtn_long_short_summary.index = ['Long and Short']\n"
   ]
  },
  {
   "cell_type": "code",
   "execution_count": 47,
   "id": "767c517d-cdef-408b-b11b-11a0b079c798",
   "metadata": {},
   "outputs": [
    {
     "data": {
      "text/html": [
       "<div>\n",
       "<style scoped>\n",
       "    .dataframe tbody tr th:only-of-type {\n",
       "        vertical-align: middle;\n",
       "    }\n",
       "\n",
       "    .dataframe tbody tr th {\n",
       "        vertical-align: top;\n",
       "    }\n",
       "\n",
       "    .dataframe thead th {\n",
       "        text-align: right;\n",
       "    }\n",
       "</style>\n",
       "<table border=\"1\" class=\"dataframe\">\n",
       "  <thead>\n",
       "    <tr style=\"text-align: right;\">\n",
       "      <th></th>\n",
       "      <th>Mean</th>\n",
       "      <th>Vol</th>\n",
       "      <th>Sharpe</th>\n",
       "      <th>Skewness</th>\n",
       "      <th>Corr Mkt</th>\n",
       "      <th>Corr Val</th>\n",
       "    </tr>\n",
       "  </thead>\n",
       "  <tbody>\n",
       "    <tr>\n",
       "      <th>Long and Short</th>\n",
       "      <td>0.0401</td>\n",
       "      <td>0.1696</td>\n",
       "      <td>0.2363</td>\n",
       "      <td>-1.4375</td>\n",
       "      <td>-0.3136</td>\n",
       "      <td>-0.2062</td>\n",
       "    </tr>\n",
       "    <tr>\n",
       "      <th>Long Only</th>\n",
       "      <td>0.1154</td>\n",
       "      <td>0.1783</td>\n",
       "      <td>0.6473</td>\n",
       "      <td>-0.4635</td>\n",
       "      <td>0.9017</td>\n",
       "      <td>-0.1308</td>\n",
       "    </tr>\n",
       "  </tbody>\n",
       "</table>\n",
       "</div>"
      ],
      "text/plain": [
       "                 Mean    Vol  Sharpe  Skewness  Corr Mkt  Corr Val\n",
       "Long and Short 0.0401 0.1696  0.2363   -1.4375   -0.3136   -0.2062\n",
       "Long Only      0.1154 0.1783  0.6473   -0.4635    0.9017   -0.1308"
      ]
     },
     "execution_count": 47,
     "metadata": {},
     "output_type": "execute_result"
    }
   ],
   "source": [
    "mom_comparison = pd.concat([mom_rtn_long_short_summary,mom_rtn_long_summary])\n",
    "mom_comparison"
   ]
  },
  {
   "cell_type": "code",
   "execution_count": 40,
   "id": "64842e09-8335-4957-9e6f-962b4f7f04bb",
   "metadata": {},
   "outputs": [
    {
     "data": {
      "text/plain": [
       "<Axes: xlabel='Date'>"
      ]
     },
     "execution_count": 40,
     "metadata": {},
     "output_type": "execute_result"
    },
    {
     "data": {
      "image/png": "[encoded data removed]",
      "text/plain": [
       "<Figure size 640x480 with 1 Axes>"
      ]
     },
     "metadata": {},
     "output_type": "display_data"
    }
   ],
   "source": [
    "mom_plot = pd.DataFrame(((1/2*(size_tot_ret['BIG HiPRIOR'] + size_tot_ret['SMALL HiPRIOR']))-rf['RF']),columns = ['Long-Only'])\n",
    "mom_plot['Long-Short'] = 0.5*((size_tot_ret['BIG HiPRIOR'] + size_tot_ret['SMALL HiPRIOR']) \n",
    "                              - (size_tot_ret['BIG LoPRIOR'] + size_tot_ret['SMALL LoPRIOR']))\n",
    "(1+mom_plot['1994':]).cumprod().plot()"
   ]
  },
  {
   "cell_type": "markdown",
   "id": "854e7dde-1d7e-4aa1-809c-806e8285307a",
   "metadata": {},
   "source": [
    "## 2.3\n",
    "    a) Table is below\n",
    "    b) Top Decile has more risk due to its concentrated positions and more idiosyncratic risk but also offering the highest return. In lecture, we said the more extreme the cutoffs are the higher mean return momentum portfolio will generate.\n",
    "    c) In my opinion, AQR retail should go with 1 decile since it has a better risk adjusted return and this will involve less replication and less trading costs to rebalance\n",
    "    d) Long/Short is performing better with a higher Sharpe than Momentum with 3 deciles"
   ]
  },
  {
   "cell_type": "code",
   "execution_count": 44,
   "id": "9f954324-02f1-4da0-9a9e-131d0f4fabba",
   "metadata": {},
   "outputs": [],
   "source": [
    "mom_top1_decile = pd.DataFrame(deci_tot_ret['Hi PRIOR'] - deci_tot_ret['Lo PRIOR'],columns = ['UMD'])\n",
    "mom_top3_decile = pd.DataFrame(1/3*((deci_tot_ret.loc[:,['PRIOR 8','PRIOR 9','Hi PRIOR']].sum(axis = 1))\n",
    "                                    - (deci_tot_ret.loc[:,['Lo PRIOR','PRIOR 2','PRIOR 3']].sum(axis = 1))),columns = ['UMD'])\n",
    "\n",
    "mom_top5_decile = pd.DataFrame(1/5*((deci_tot_ret.loc[:,['PRIOR 6','PRIOR 7','PRIOR 8','PRIOR 9','Hi PRIOR']].sum(axis = 1))\n",
    "                                    - (deci_tot_ret.loc[:,['Lo PRIOR','PRIOR 2','PRIOR 3','PRIOR 4','PRIOR 5']].sum(axis = 1))),columns = ['UMD'])\n",
    "\n"
   ]
  },
  {
   "cell_type": "code",
   "execution_count": 46,
   "id": "3b599076-6c05-4a83-a94c-df46e2769412",
   "metadata": {},
   "outputs": [
    {
     "data": {
      "text/html": [
       "<div>\n",
       "<style scoped>\n",
       "    .dataframe tbody tr th:only-of-type {\n",
       "        vertical-align: middle;\n",
       "    }\n",
       "\n",
       "    .dataframe tbody tr th {\n",
       "        vertical-align: top;\n",
       "    }\n",
       "\n",
       "    .dataframe thead th {\n",
       "        text-align: right;\n",
       "    }\n",
       "</style>\n",
       "<table border=\"1\" class=\"dataframe\">\n",
       "  <thead>\n",
       "    <tr style=\"text-align: right;\">\n",
       "      <th></th>\n",
       "      <th>Mean</th>\n",
       "      <th>Vol</th>\n",
       "      <th>Sharpe</th>\n",
       "      <th>Skewness</th>\n",
       "      <th>Corr Mkt</th>\n",
       "      <th>Corr Val</th>\n",
       "    </tr>\n",
       "  </thead>\n",
       "  <tbody>\n",
       "    <tr>\n",
       "      <th>Momentum Top 1 Decile</th>\n",
       "      <td>0.0749</td>\n",
       "      <td>0.2986</td>\n",
       "      <td>0.2508</td>\n",
       "      <td>-1.3072</td>\n",
       "      <td>-0.3284</td>\n",
       "      <td>-0.2239</td>\n",
       "    </tr>\n",
       "    <tr>\n",
       "      <th>Momentum Top 3 Decile</th>\n",
       "      <td>0.0248</td>\n",
       "      <td>0.1942</td>\n",
       "      <td>0.1278</td>\n",
       "      <td>-1.3505</td>\n",
       "      <td>-0.3646</td>\n",
       "      <td>-0.2208</td>\n",
       "    </tr>\n",
       "    <tr>\n",
       "      <th>Momentum Top 5 Decile</th>\n",
       "      <td>0.0130</td>\n",
       "      <td>0.1345</td>\n",
       "      <td>0.0968</td>\n",
       "      <td>-1.4280</td>\n",
       "      <td>-0.3541</td>\n",
       "      <td>-0.2175</td>\n",
       "    </tr>\n",
       "  </tbody>\n",
       "</table>\n",
       "</div>"
      ],
      "text/plain": [
       "                        Mean    Vol  Sharpe  Skewness  Corr Mkt  Corr Val\n",
       "Momentum Top 1 Decile 0.0749 0.2986  0.2508   -1.3072   -0.3284   -0.2239\n",
       "Momentum Top 3 Decile 0.0248 0.1942  0.1278   -1.3505   -0.3646   -0.2208\n",
       "Momentum Top 5 Decile 0.0130 0.1345  0.0968   -1.4280   -0.3541   -0.2175"
      ]
     },
     "execution_count": 46,
     "metadata": {},
     "output_type": "execute_result"
    }
   ],
   "source": [
    "samples = {'Momentum Top 1 Decile':mom_top1_decile\n",
    "          ,'Momentum Top 3 Decile':mom_top3_decile\n",
    "          ,'Momentum Top 5 Decile':mom_top5_decile}\n",
    "\n",
    "mom_deciles = []\n",
    "for k,v in samples.items():\n",
    "    ff = fffactors.copy()\n",
    "    ff['UMD'] = v['UMD']\n",
    "    mom_decile_summary = summary_statistics_annualized(v['1994':])\n",
    "    mom_decile_summary = mom_decile_summary.loc[:,['Mean','Vol','Sharpe','Skewness']]\n",
    "    mom_decile_summary['Corr Mkt'] = ff.loc['1994':'2022'].corr().loc['MKT',['UMD']]\n",
    "    mom_decile_summary['Corr Val'] = ff.loc['1994':'2022'].corr().loc['HML',['UMD']]\n",
    "    mom_decile_summary.index = [k]\n",
    "    mom_deciles.append(mom_decile_summary)\n",
    "\n",
    "mom_deciles_df = pd.concat(mom_deciles)\n",
    "mom_deciles_df"
   ]
  },
  {
   "cell_type": "markdown",
   "id": "c68226fa-9ec0-4ffa-ab4c-60224138dcce",
   "metadata": {},
   "source": [
    "## 2.4\n",
    "    a) Table is below\n",
    "    b) According to various theories, small cap stocks carry higher risk premia due to their size and illiquidity and thus may have higher expected returns and do well for a momentum strategy. But, they do come with a lot of nuances of higher transaction costs and difficulty in trading them."
   ]
  },
  {
   "cell_type": "code",
   "execution_count": 48,
   "id": "fd1c9617-b119-4531-bf91-42787e468ed2",
   "metadata": {},
   "outputs": [],
   "source": [
    "mom_small = pd.DataFrame((size_tot_ret['SMALL HiPRIOR'] - size_tot_ret['SMALL LoPRIOR']),columns = ['UMD'])\n",
    "mom_large = pd.DataFrame((size_tot_ret['BIG HiPRIOR'] - size_tot_ret['BIG LoPRIOR']),columns = ['UMD'])\n"
   ]
  },
  {
   "cell_type": "code",
   "execution_count": 51,
   "id": "ed8791e1-a21a-4830-b8e1-7731ead5c04d",
   "metadata": {},
   "outputs": [
    {
     "data": {
      "text/html": [
       "<div>\n",
       "<style scoped>\n",
       "    .dataframe tbody tr th:only-of-type {\n",
       "        vertical-align: middle;\n",
       "    }\n",
       "\n",
       "    .dataframe tbody tr th {\n",
       "        vertical-align: top;\n",
       "    }\n",
       "\n",
       "    .dataframe thead th {\n",
       "        text-align: right;\n",
       "    }\n",
       "</style>\n",
       "<table border=\"1\" class=\"dataframe\">\n",
       "  <thead>\n",
       "    <tr style=\"text-align: right;\">\n",
       "      <th></th>\n",
       "      <th>Mean</th>\n",
       "      <th>Vol</th>\n",
       "      <th>Sharpe</th>\n",
       "      <th>Skewness</th>\n",
       "      <th>Corr Mkt</th>\n",
       "      <th>Corr Val</th>\n",
       "    </tr>\n",
       "  </thead>\n",
       "  <tbody>\n",
       "    <tr>\n",
       "      <th>Long and Short</th>\n",
       "      <td>0.0401</td>\n",
       "      <td>0.1696</td>\n",
       "      <td>0.2363</td>\n",
       "      <td>-1.4375</td>\n",
       "      <td>-0.3136</td>\n",
       "      <td>-0.2062</td>\n",
       "    </tr>\n",
       "    <tr>\n",
       "      <th>Small Stocks</th>\n",
       "      <td>0.0594</td>\n",
       "      <td>0.1719</td>\n",
       "      <td>0.3453</td>\n",
       "      <td>-1.7440</td>\n",
       "      <td>-0.3092</td>\n",
       "      <td>-0.1463</td>\n",
       "    </tr>\n",
       "    <tr>\n",
       "      <th>Large Stocks</th>\n",
       "      <td>0.0208</td>\n",
       "      <td>0.1839</td>\n",
       "      <td>0.1131</td>\n",
       "      <td>-0.8771</td>\n",
       "      <td>-0.2894</td>\n",
       "      <td>-0.2436</td>\n",
       "    </tr>\n",
       "  </tbody>\n",
       "</table>\n",
       "</div>"
      ],
      "text/plain": [
       "                 Mean    Vol  Sharpe  Skewness  Corr Mkt  Corr Val\n",
       "Long and Short 0.0401 0.1696  0.2363   -1.4375   -0.3136   -0.2062\n",
       "Small Stocks   0.0594 0.1719  0.3453   -1.7440   -0.3092   -0.1463\n",
       "Large Stocks   0.0208 0.1839  0.1131   -0.8771   -0.2894   -0.2436"
      ]
     },
     "execution_count": 51,
     "metadata": {},
     "output_type": "execute_result"
    }
   ],
   "source": [
    "samples = {'Small Stocks':mom_small\n",
    "          ,'Large Stocks':mom_large}\n",
    "\n",
    "mom_size = []\n",
    "for k,v in samples.items():\n",
    "    ff = fffactors.copy()\n",
    "    ff['UMD'] = v['UMD']\n",
    "    mom_size_summary = summary_statistics_annualized(v['1994':])\n",
    "    mom_size_summary = mom_size_summary.loc[:,['Mean','Vol','Sharpe','Skewness']]\n",
    "    mom_size_summary['Corr Mkt'] = ff.loc['1994':].corr().loc['MKT',['UMD']]\n",
    "    mom_size_summary['Corr Val'] = ff.loc['1994':].corr().loc['HML',['UMD']]\n",
    "    mom_size_summary.index = [k]\n",
    "    mom_size.append(mom_size_summary)\n",
    "\n",
    "mom_size.insert(0,mom_rtn_long_short_summary)\n",
    "mom_size_df = pd.concat(mom_size)\n",
    "mom_size_df"
   ]
  },
  {
   "cell_type": "markdown",
   "id": "9c7c56e0-0d9b-4725-9832-1cfd4744b7b2",
   "metadata": {},
   "source": [
    "## 2.5\n",
    "    AQR's consumer offering manages to secure a risk premium akin to the one generated by Fama-French's long-short momentum strategy, which is organized by market capitalization categories. Nevertheless, AQR's strategy, being exclusively long, tends to align more closely with overall market movements, negating the diversifying advantages associated with the Momentum factor.\n",
    "\n",
    "    Recognizing the necessity for the consumer product to maintain a long-only position, AQR ought to explore alternative methods to lessen this market correlation or consider introducing an ETF. This would enable AQR to implement the momentum strategy through a long-short format."
   ]
  },
  {
   "cell_type": "code",
   "execution_count": null,
   "id": "66fa29f2-2a51-4143-adcb-8867cbf31ad6",
   "metadata": {},
   "outputs": [],
   "source": []
  }
 ],
 "metadata": {
  "kernelspec": {
   "display_name": "Python 3 (ipykernel)",
   "language": "python",
   "name": "python3"
  },
  "language_info": {
   "codemirror_mode": {
    "name": "ipython",
    "version": 3
   },
   "file_extension": ".py",
   "mimetype": "text/x-python",
   "name": "python",
   "nbconvert_exporter": "python",
   "pygments_lexer": "ipython3",
   "version": "3.9.18"
  }
 },
 "nbformat": 4,
 "nbformat_minor": 5
}
